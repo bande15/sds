{
  "nbformat": 4,
  "nbformat_minor": 0,
  "metadata": {
    "colab": {
      "name": "M1.ipynb",
      "version": "0.3.2",
      "provenance": [],
      "collapsed_sections": []
    },
    "kernelspec": {
      "name": "python3",
      "display_name": "Python 3"
    }
  },
  "cells": [
    {
      "cell_type": "markdown",
      "metadata": {
        "id": "1hjgsla5urto",
        "colab_type": "text"
      },
      "source": [
        "Dear reader, running some sections more than once will result in errors.\n",
        "\n",
        "Re-running the entire notebook will run cleanly"
      ]
    },
    {
      "cell_type": "markdown",
      "metadata": {
        "id": "wSQd2NyvvL65",
        "colab_type": "text"
      },
      "source": [
        "**Opgave 1**"
      ]
    },
    {
      "cell_type": "code",
      "metadata": {
        "id": "jEO6ZoMiVU9e",
        "colab_type": "code",
        "colab": {
          "base_uri": "https://localhost:8080/",
          "height": 629
        },
        "outputId": "3104ed81-2a68-49ff-9eff-3ec3c8108ac6"
      },
      "source": [
        "## Fetch\n",
        "# UNCOMMENT TO DOWNLOAD\n",
        "!wget -c https://github.com/SDS-AAU/M1-2019/raw/master/data/trips.csv\n",
        "!wget -c https://github.com/SDS-AAU/M1-2019/raw/master/data/people.csv\n",
        "!wget -c https://github.com/SDS-AAU/M1-2019/raw/master/data/countrylist.csv\n",
        "\n",
        "## import libraries\n",
        "\n",
        "import pandas as pd\n",
        "import matplotlib.pyplot as plt\n",
        "from datetime import datetime as dt\n",
        "from datetime import timedelta as td\n"
      ],
      "execution_count": 183,
      "outputs": [
        {
          "output_type": "stream",
          "text": [
            "--2019-09-11 09:05:49--  https://github.com/SDS-AAU/M1-2019/raw/master/data/trips.csv\n",
            "Resolving github.com (github.com)... 192.30.253.112\n",
            "Connecting to github.com (github.com)|192.30.253.112|:443... connected.\n",
            "HTTP request sent, awaiting response... 302 Found\n",
            "Location: https://raw.githubusercontent.com/SDS-AAU/M1-2019/master/data/trips.csv [following]\n",
            "--2019-09-11 09:05:50--  https://raw.githubusercontent.com/SDS-AAU/M1-2019/master/data/trips.csv\n",
            "Resolving raw.githubusercontent.com (raw.githubusercontent.com)... 151.101.0.133, 151.101.64.133, 151.101.128.133, ...\n",
            "Connecting to raw.githubusercontent.com (raw.githubusercontent.com)|151.101.0.133|:443... connected.\n",
            "HTTP request sent, awaiting response... 416 Range Not Satisfiable\n",
            "\n",
            "    The file is already fully retrieved; nothing to do.\n",
            "\n",
            "--2019-09-11 09:05:51--  https://github.com/SDS-AAU/M1-2019/raw/master/data/people.csv\n",
            "Resolving github.com (github.com)... 192.30.253.112\n",
            "Connecting to github.com (github.com)|192.30.253.112|:443... connected.\n",
            "HTTP request sent, awaiting response... 302 Found\n",
            "Location: https://raw.githubusercontent.com/SDS-AAU/M1-2019/master/data/people.csv [following]\n",
            "--2019-09-11 09:05:51--  https://raw.githubusercontent.com/SDS-AAU/M1-2019/master/data/people.csv\n",
            "Resolving raw.githubusercontent.com (raw.githubusercontent.com)... 151.101.0.133, 151.101.64.133, 151.101.128.133, ...\n",
            "Connecting to raw.githubusercontent.com (raw.githubusercontent.com)|151.101.0.133|:443... connected.\n",
            "HTTP request sent, awaiting response... 416 Range Not Satisfiable\n",
            "\n",
            "    The file is already fully retrieved; nothing to do.\n",
            "\n",
            "--2019-09-11 09:05:52--  https://github.com/SDS-AAU/M1-2019/raw/master/data/countrylist.csv\n",
            "Resolving github.com (github.com)... 192.30.253.112\n",
            "Connecting to github.com (github.com)|192.30.253.112|:443... connected.\n",
            "HTTP request sent, awaiting response... 302 Found\n",
            "Location: https://raw.githubusercontent.com/SDS-AAU/M1-2019/master/data/countrylist.csv [following]\n",
            "--2019-09-11 09:05:53--  https://raw.githubusercontent.com/SDS-AAU/M1-2019/master/data/countrylist.csv\n",
            "Resolving raw.githubusercontent.com (raw.githubusercontent.com)... 151.101.0.133, 151.101.64.133, 151.101.128.133, ...\n",
            "Connecting to raw.githubusercontent.com (raw.githubusercontent.com)|151.101.0.133|:443... connected.\n",
            "HTTP request sent, awaiting response... 416 Range Not Satisfiable\n",
            "\n",
            "    The file is already fully retrieved; nothing to do.\n",
            "\n"
          ],
          "name": "stdout"
        }
      ]
    },
    {
      "cell_type": "code",
      "metadata": {
        "id": "ARSpWFb-YcOs",
        "colab_type": "code",
        "outputId": "5ee3c7f3-7025-452c-8aa7-6d76a59dab67",
        "colab": {
          "base_uri": "https://localhost:8080/",
          "height": 34
        }
      },
      "source": [
        "## Læs data, drop observationer hvor dato mangler\n",
        "trip = pd.read_csv(\"trips.csv\")\n",
        "a = len(trip) # antal obervationer i datasættet efter indlæsning\n",
        "\n",
        "trip.dropna(subset=[\"date_start\", \"date_end\"], inplace=True)\n",
        "b = len(trip) # antal obervationer i datasættet efter frasotering af manglende datoer\n",
        "c = 100 - ((b / a) * 100)\n",
        "print(a-b , \"of\", a , \"(\", c ,\"% ) observations dropped because of missing dates.\", b , \"observations left\")\n",
        "\n",
        "# Ryd op\n",
        "del a , b , c"
      ],
      "execution_count": 184,
      "outputs": [
        {
          "output_type": "stream",
          "text": [
            "175 of 46510 ( 0.3762631692109153 % ) observations dropped because of missing dates. 46335 observations left\n"
          ],
          "name": "stdout"
        }
      ]
    },
    {
      "cell_type": "code",
      "metadata": {
        "id": "BnBJOvFHY0Q9",
        "colab_type": "code",
        "colab": {}
      },
      "source": [
        "## Opgave 1.a Konverter rejsedatoer\n",
        "trip[\"date_start\"] = pd.to_datetime(trip.date_start, format=\"%Y-%m-%d\", errors='coerce')\n",
        "trip[\"date_end\"] = pd.to_datetime(trip.date_end, format=\"%Y-%m-%d\", errors='coerce')"
      ],
      "execution_count": 0,
      "outputs": []
    },
    {
      "cell_type": "code",
      "metadata": {
        "id": "-DTX7vJQeX1v",
        "colab_type": "code",
        "colab": {}
      },
      "source": [
        "## Opgave 1.b Udregn rejsetid\n",
        "trip[\"rn\"] = pd.to_numeric(trip.date_end) - pd.to_numeric(trip.date_start) # Numerisk rejsetid\n",
        "trip[\"rejsetid\"] = pd.to_timedelta(trip.rn) # \"Normal\" rejsetid"
      ],
      "execution_count": 0,
      "outputs": []
    },
    {
      "cell_type": "code",
      "metadata": {
        "id": "tdo6dIOgmfUE",
        "colab_type": "code",
        "outputId": "7e332bb8-072d-4481-fce9-01728ccbcf11",
        "colab": {
          "base_uri": "https://localhost:8080/",
          "height": 54
        }
      },
      "source": [
        "## Opgave 1.c Fjern observationer under 1% kvantil og over 97% kvantil\n",
        "\n",
        "a = len(trip)\n",
        "\n",
        "# Find kvantiler af hele sættet.\n",
        "qu = trip.rn.quantile(.97) # Upper quantile threshold\n",
        "ql = trip.rn.quantile(.01) # Lower quantile threshold\n",
        "\n",
        "# Sorter\n",
        "trip = trip[trip.rn < qu]\n",
        "trip = trip[trip.rn > ql]\n",
        "\n",
        "b = len(trip)\n",
        "c = 100 - ((b / a) * 100)\n",
        "\n",
        "print(a-b , \"of\", a , \"(\", c ,\"% ) observations dropped because values where below 1% quantile or above 97% quantile.\", b , \"observations left\")\n",
        "# Ryd op\n",
        "del a , b , c , qu , ql"
      ],
      "execution_count": 187,
      "outputs": [
        {
          "output_type": "stream",
          "text": [
            "2970 of 46335 ( 6.4098413726125045 % ) observations dropped because values where below 1% quantile or above 97% quantile. 43365 observations left\n"
          ],
          "name": "stdout"
        }
      ]
    },
    {
      "cell_type": "code",
      "metadata": {
        "id": "ORqK0qVaVd6q",
        "colab_type": "code",
        "outputId": "9d53b615-30f4-4b2b-ec4c-f0a827950dfc",
        "colab": {
          "base_uri": "https://localhost:8080/",
          "height": 122
        }
      },
      "source": [
        "# Opgave 1.d Indlæs countrylist\n",
        "cl = pd.read_csv(\"countrylist.csv\")\n",
        "\n",
        "# Forbered merge\n",
        "a = len(trip)\n",
        "\n",
        "# Fjern observationer uden country code\n",
        "trip.dropna(subset=[\"country_code\"], inplace=True)\n",
        "b = len(trip)\n",
        "c = 100 - ((b / a) * 100)\n",
        "print(a-b , \"of\", a , \"(\", c ,\"% ) observations dropped because of missing county codes.\", b , \"observations left\")\n",
        "\n",
        "# Ryd op\n",
        "del a , b , c\n",
        "\n",
        "# Test for mismatch\n",
        "d = trip.country_code.unique()\n",
        "e = cl.alpha_2.unique()\n",
        "f = [x for x in d if x not in e]\n",
        "\n",
        "print(\"The following country codes are present in trips.csv but not in countrylist.csv:\" , f )\n",
        "print(\"While the countrycodes may be valid, such as 'UK', they are discarded because the assignment dictates a merge, during which they will be lost anyway\")\n",
        "\n",
        "# Fjern observationer med country_code der ikke findes i countrylist.csv\n",
        "a = len(trip)\n",
        "trip = trip[trip.country_code.isin(f) == False]\n",
        "b = len(trip)\n",
        "c = 100 - ((b / a) * 100)\n",
        "print(a-b , \"of\", a , \"(\", c ,\"% ) observations dropped because their country code is not present in countrylist.csv.\", b , \"observations left\")\n",
        "\n",
        "# Ryd op\n",
        "del a , b , c , d , e , f\n",
        "\n",
        "# Merge\n",
        "a = len(trip)\n",
        "trip = trip.merge(cl, left_on='country_code', right_on='alpha_2')\n",
        "b = len(trip)\n",
        "c = 100 - ((b / a) * 100)\n",
        "print(a-b , \"of\", a , \"(\", c ,\"% ) observations lost in merge.\", b , \"observations left\")\n",
        "\n",
        "# Ryd op\n",
        "del a , b , c"
      ],
      "execution_count": 188,
      "outputs": [
        {
          "output_type": "stream",
          "text": [
            "550 of 43365 ( 1.2683039317421816 % ) observations dropped because of missing county codes. 42815 observations left\n",
            "The following country codes are present in trips.csv but not in countrylist.csv: ['UK', 'CB', 'AA', 'IA', 'KS', 'VB', 'CT', 'OI']\n",
            "While the countrycodes may be valid, such as 'UK', they are discarded because the assignment dictates a merge, during which they will be lost anyway\n",
            "1739 of 42815 ( 4.06166063295575 % ) observations dropped because their country code is not present in countrylist.csv. 41076 observations left\n",
            "0 of 41076 ( 0.0 % ) observations lost in merge. 41076 observations left\n"
          ],
          "name": "stdout"
        }
      ]
    },
    {
      "cell_type": "code",
      "metadata": {
        "id": "-O23inDZZV-M",
        "colab_type": "code",
        "outputId": "7e0c2c12-fb37-43f9-c585-44681b9e5a11",
        "colab": {
          "base_uri": "https://localhost:8080/",
          "height": 34
        }
      },
      "source": [
        "# Sæt rejsestartdato til index\n",
        "trip = trip.set_index(\"date_start\")\n",
        "trip = trip.sort_index(ascending=1)\n",
        "print(\"Index i 'trap' sat til 'date_start' og datasæt sorteret efter dato.\")"
      ],
      "execution_count": 189,
      "outputs": [
        {
          "output_type": "stream",
          "text": [
            "Index i 'trap' sat til 'date_start' og datasæt sorteret efter dato.\n"
          ],
          "name": "stdout"
        }
      ]
    },
    {
      "cell_type": "markdown",
      "metadata": {
        "id": "-XaxM2LEvFh1",
        "colab_type": "text"
      },
      "source": [
        "**Opgave 2**"
      ]
    },
    {
      "cell_type": "code",
      "metadata": {
        "id": "bJBt-H_VvThn",
        "colab_type": "code",
        "outputId": "006768e3-43ad-4a17-f8ef-5d0ac1c29b90",
        "colab": {
          "base_uri": "https://localhost:8080/",
          "height": 68
        }
      },
      "source": [
        "## Read data\n",
        "pp = pd.read_csv(\"people.csv\")\n",
        "\n",
        "## Opgave 2.a How many people have at least completed high school\n",
        "pp.dropna(subset=[\"education_raw\"], inplace=True)\n",
        "print(len(pp) , \"have completed high school\")\n",
        "\n",
        "## Opgave 2.b How many software developers have a master's\n",
        "pp.dropna(subset=[\"work_raw\"])\n",
        "pps = pp[(pp[\"work_raw\"].str.contains(\"Software Dev\")==True) & (pp[\"education_raw\"].str.contains(\"Master\")==True)]\n",
        "print(len(pps) , \"Software developers have a Master's Degree\")\n",
        "\n",
        "## Opgave 2.c Who is the person with a Master's Degree that has the highest number of followers?\n",
        "ppmax = pp[(pp.followers == max(pp.followers)) & (pp.education_raw.str.contains(\"Master\")==True)]\n",
        "a = list(ppmax[\"username\"]) ## @levelsio has the highest numbers of followers\n",
        "\n",
        "print(a , \"has the most followers\")"
      ],
      "execution_count": 190,
      "outputs": [
        {
          "output_type": "stream",
          "text": [
            "451 have completed high school\n",
            "57 Software developers have a Master's Degree\n",
            "['@levelsio'] has the most followers\n"
          ],
          "name": "stdout"
        }
      ]
    },
    {
      "cell_type": "markdown",
      "metadata": {
        "id": "bbbHz6fQxbBQ",
        "colab_type": "text"
      },
      "source": [
        "**Opgave 3**"
      ]
    },
    {
      "cell_type": "code",
      "metadata": {
        "id": "ZuhD71_pxbT5",
        "colab_type": "code",
        "colab": {
          "base_uri": "https://localhost:8080/",
          "height": 1000
        },
        "outputId": "a2621917-48dc-4015-dfa6-3f8f8c6b794f"
      },
      "source": [
        "## Opgave 3.a Country with most travels\n",
        "a = list(trip.country.unique())\n",
        "a.sort()\n",
        "b = pd.DataFrame(a)\n",
        "b.columns = [\"land\"]\n",
        "b[\"count\"]=0\n",
        "b.sort_values(by=['land'], inplace=True)\n",
        "\n",
        "## Quite possibly the worst and most inefficient data frame string counter loop ever written\n",
        "c = 0\n",
        "while c < len(a):\n",
        "    b.at[c, \"count\"] = len(trip[trip[\"country\"] == a[c]])\n",
        "    c += 1\n",
        "\n",
        "b.sort_values(by=['count'], inplace=True, ascending=False)\n",
        "\n",
        "\n",
        "print(\"The countries with the most travels is seen in the sorted list below\", \"\\n\" , b)\n",
        "\n",
        "# Ryd op\n",
        "del a , b , c\n"
      ],
      "execution_count": 191,
      "outputs": [
        {
          "output_type": "stream",
          "text": [
            "The countries with the most travels is seen in the sorted list below \n",
            "                        land  count\n",
            "162           United States   6965\n",
            "152                Thailand   3278\n",
            "143                   Spain   1875\n",
            "56                  Germany   1812\n",
            "54                   France   1391\n",
            "70                Indonesia   1305\n",
            "34                    China   1066\n",
            "74                    Italy   1043\n",
            "106             Netherlands    988\n",
            "76                    Japan    972\n",
            "30                   Canada    959\n",
            "167                 Vietnam    941\n",
            "8                 Australia    916\n",
            "93                 Malaysia    863\n",
            "97                   Mexico    859\n",
            "123                Portugal    805\n",
            "69                    India    647\n",
            "23                   Brazil    557\n",
            "137               Singapore    516\n",
            "35                 Colombia    505\n",
            "128                  Russia    467\n",
            "67                  Hungary    453\n",
            "108             New Zealand    442\n",
            "122                  Poland    413\n",
            "9                   Austria    412\n",
            "59                   Greece    394\n",
            "38                  Croatia    376\n",
            "28                 Cambodia    362\n",
            "149                  Taiwan    360\n",
            "121             Philippines    358\n",
            "..                      ...    ...\n",
            "80                   Kuwait      4\n",
            "60                Greenland      4\n",
            "62               Guadeloupe      4\n",
            "155     Trinidad and Tobago      3\n",
            "126                 Reunion      3\n",
            "117        Papua New Guinea      3\n",
            "36             Cook Islands      3\n",
            "51            Faroe Islands      3\n",
            "57                    Ghana      3\n",
            "61                  Grenada      3\n",
            "136            Sierra Leone      2\n",
            "5                  Anguilla      2\n",
            "25                   Brunei      2\n",
            "27                  Burundi      2\n",
            "0               Afghanistan      2\n",
            "154                   Tonga      2\n",
            "66                Hong Kong      2\n",
            "114                Pakistan      2\n",
            "64                   Guinea      1\n",
            "87            Liechtenstein      1\n",
            "107           New Caledonia      1\n",
            "45               East Timor      1\n",
            "43                 Djibouti      1\n",
            "115               Palestine      1\n",
            "120                    Perú      1\n",
            "24   British Virgin Islands      1\n",
            "130                   Samoa      1\n",
            "168                   Yemen      1\n",
            "2                   Algeria      1\n",
            "140         Solomon Islands      1\n",
            "\n",
            "[171 rows x 2 columns]\n"
          ],
          "name": "stdout"
        }
      ]
    },
    {
      "cell_type": "code",
      "metadata": {
        "id": "_Tj2Cj42YsHV",
        "colab_type": "code",
        "colab": {
          "base_uri": "https://localhost:8080/",
          "height": 1000
        },
        "outputId": "ea8ba659-5da8-4fb2-92fb-230c8916cf4f"
      },
      "source": [
        "## Opgave 3.b Country with most travels in 2017\n",
        "t17 = trip.loc[\"2017-1-1\" : \"2017-12-31\"]\n",
        "\n",
        "a = list(t17.country.unique())\n",
        "a.sort()\n",
        "b = pd.DataFrame(a)\n",
        "b.columns = [\"land\"]\n",
        "b[\"count\"]=0\n",
        "b.sort_values(by=['land'], inplace=True)\n",
        "\n",
        "## Quite possibly the worst and most inefficient data frame string counter loop ever written\n",
        "c = 0\n",
        "while c < len(a):\n",
        "    b.at[c, \"count\"] = len(t17[t17[\"country\"] == a[c]])\n",
        "    c += 1 \n",
        "\n",
        "b.sort_values(by=['count'], inplace=True, ascending=False)\n",
        "\n",
        "\n",
        "print(\"The countries with the most travels in 2017 is seen in the sorted list below\", \"\\n\" , b)\n",
        "\n",
        "# Ryd op\n",
        "del a , b , c"
      ],
      "execution_count": 192,
      "outputs": [
        {
          "output_type": "stream",
          "text": [
            "The countries with the most travels in 2017 is seen in the sorted list below \n",
            "                        land  count\n",
            "134           United States   1824\n",
            "127                Thailand    894\n",
            "120                   Spain    598\n",
            "48                  Germany    456\n",
            "46                   France    391\n",
            "59                Indonesia    375\n",
            "137                 Vietnam    357\n",
            "81                   Mexico    316\n",
            "103                Portugal    305\n",
            "63                    Italy    299\n",
            "89              Netherlands    293\n",
            "77                 Malaysia    287\n",
            "5                 Australia    246\n",
            "65                    Japan    241\n",
            "24                   Canada    239\n",
            "28                    China    223\n",
            "29                 Colombia    192\n",
            "19                   Brazil    169\n",
            "58                    India    169\n",
            "114               Singapore    153\n",
            "108                  Russia    147\n",
            "56                  Hungary    139\n",
            "91              New Zealand    137\n",
            "125                  Taiwan    127\n",
            "102                  Poland    127\n",
            "50                   Greece    115\n",
            "123                  Sweden    112\n",
            "32                  Croatia    111\n",
            "6                   Austria    111\n",
            "100                    Peru     96\n",
            "..                      ...    ...\n",
            "42                 Ethiopia      2\n",
            "51                Greenland      2\n",
            "87                  Myanmar      2\n",
            "49                Gibraltar      2\n",
            "80                Mauritius      2\n",
            "44                     Fiji      2\n",
            "52                  Grenada      2\n",
            "43            Faroe Islands      2\n",
            "30             Cook Islands      1\n",
            "3                    Angola      1\n",
            "90            New Caledonia      1\n",
            "131                  Uganda      1\n",
            "129                   Tonga      1\n",
            "128             The Bahamas      1\n",
            "96                 Pakistan      1\n",
            "14                  Bermuda      1\n",
            "109                  Rwanda      1\n",
            "122               Swaziland      1\n",
            "15                   Bhutan      1\n",
            "17       Bosnia-Herzegovina      1\n",
            "18                 Botswana      1\n",
            "20   British Virgin Islands      1\n",
            "117         Solomon Islands      1\n",
            "53               Guadeloupe      1\n",
            "75                Macedonia      1\n",
            "113              Seychelles      1\n",
            "1                   Algeria      1\n",
            "72                  Lesotho      1\n",
            "106                 Reunion      1\n",
            "111                 Senegal      1\n",
            "\n",
            "[138 rows x 2 columns]\n"
          ],
          "name": "stdout"
        }
      ]
    },
    {
      "cell_type": "code",
      "metadata": {
        "id": "v6b6bRhANmdQ",
        "colab_type": "code",
        "colab": {
          "base_uri": "https://localhost:8080/",
          "height": 336
        },
        "outputId": "94888328-cf54-4e80-9dcb-e9a54ffc9852"
      },
      "source": [
        "## Opgave 3.c Which is the country in 'Eastern Asia' where travellers spent on average least time when going there? Provide a visualization.\n",
        "tea = trip[trip.sub_region.str.contains(\"Eastern Asia\")==True]\n",
        "\n",
        "a = list(tea.country.unique())\n",
        "a.sort()\n",
        "b = pd.DataFrame(a)\n",
        "b.columns = [\"land\"]\n",
        "b[\"time\"]=0\n",
        "b.sort_values(by=['land'], inplace=True)\n",
        "\n",
        "## Quite possibly the worst and most inefficient data frame string counter loop ever written\n",
        "c = 0\n",
        "while c < len(a):\n",
        "    b.at[c, \"time\"] = tea[tea[\"country\"] == a[c]].rejsetid.mean()\n",
        "    c += 1\n",
        "b.set_index(\"land\")\n",
        "b.sort_values(by=['time'], inplace=True, ascending=True)\n",
        "b.plot(x=\"land\", y=\"time\", kind=\"barh\")\n",
        "\n",
        "# Ryd op\n",
        "del a , b , c"
      ],
      "execution_count": 193,
      "outputs": [
        {
          "output_type": "stream",
          "text": [
            "/usr/local/lib/python3.6/dist-packages/pandas/plotting/_core.py:223: FutureWarning: Passing integers to fillna is deprecated, will raise a TypeError in a future version.  To retain the old behavior, pass pd.Timedelta(seconds=n) instead.\n",
            "  data = data.fillna(fillna)\n"
          ],
          "name": "stderr"
        },
        {
          "output_type": "display_data",
          "data": {
            "image/png": "[encoded data removed]",
            "text/plain": [
              "<Figure size 432x288 with 1 Axes>"
            ]
          },
          "metadata": {
            "tags": []
          }
        }
      ]
    },
    {
      "cell_type": "code",
      "metadata": {
        "id": "NdVNy6g1kYwz",
        "colab_type": "code",
        "outputId": "229fbb86-a437-41d1-897f-b29ae29985a7",
        "colab": {
          "base_uri": "https://localhost:8080/",
          "height": 71
        }
      },
      "source": [
        "## Opgave 3.d Do nomads that indicate working in “Software Dev” tend to have shorter or longer trips on average?\n",
        "\n",
        "psoft = pd.read_csv(\"people.csv\")\n",
        "psoft = psoft[psoft.work_raw.str.contains(\"Software Dev\")==True]\n",
        "\n",
        "\n",
        "tsoft = trip.merge(psoft, left_on='username', right_on='username')\n",
        "\n",
        "tidn = trip.rejsetid.mean()\n",
        "tids = tsoft.rejsetid.mean()\n",
        "\n",
        "result = \"longer.\"\n",
        "if tidn > tids :\n",
        "  result = \"shorter.\"\n",
        "\n",
        "if tidn == tids :\n",
        "  result = \"identical\"\n",
        "  \n",
        "print(\"Travel times for Software Devs are\", result , \"\\n\" , \"Note! Since the question compared software devs travel time to 'average' and not to 'non-software developers' for this calulation, software devs was not excluded form the average!\")\n",
        "\n",
        "\n",
        "\n"
      ],
      "execution_count": 194,
      "outputs": [
        {
          "output_type": "stream",
          "text": [
            "Travel times for Software Devs are shorter. \n",
            " Note! Since the question compared software devs travel time to 'average' and not to 'non-software developers' for this calulation, software devs was not excluded form the average!\n"
          ],
          "name": "stdout"
        }
      ]
    },
    {
      "cell_type": "code",
      "metadata": {
        "id": "LfBBAVgIqcHX",
        "colab_type": "code",
        "colab": {
          "base_uri": "https://localhost:8080/",
          "height": 336
        },
        "outputId": "dcd3222b-2a3b-4c41-8a67-cdacb3506561"
      },
      "source": [
        "## Opgave 3.e Visualize over-time median trip duration overall (bonus: and split by world-region). You will get a weird looking plot :-)\n",
        "\n",
        "## defining year addition (https://stackoverflow.com/questions/15741618/add-one-year-in-current-date-python)\n",
        "def add_years(d, years):\n",
        "    \"\"\"Return a date that's `years` years after the date (or datetime)\n",
        "    object `d`. Return the same calendar date (month and day) in the\n",
        "    destination year, if it exists, otherwise use the following day\n",
        "    (thus changing February 29 to March 1).\n",
        "\n",
        "    \"\"\"\n",
        "    try:\n",
        "        return d.replace(year = d.year + years)\n",
        "    except ValueError:\n",
        "        return d + (date(d.year + years, 1, 1) - date(d.year, 1, 1))\n",
        "\n",
        "r = list(trip.region.unique())\n",
        "r.append(\"Global\")\n",
        "r.append(\"Traveltime\")\n",
        "tmean = pd.DataFrame(columns=[r])\n",
        "\n",
        "a = 1 # Year increment in mean travel time list\n",
        "b = pd.to_datetime(\"1979-01-01\", format=\"%Y-%m-%d\", errors='coerce')\n",
        "c = pd.to_datetime(\"2019-12-31\", format=\"%Y-%m-%d\", errors='coerce')\n",
        "d = 0\n",
        "## Time loop. Very inefficient when working with large dataframes\n",
        "\n",
        "while b < c:\n",
        "    e = add_years(b,a)\n",
        "    f = int(1979 + (d * a))\n",
        "    tloop = trip.loc[b:e]\n",
        "    tmean.at[d,r[5]] = tloop.rejsetid.mean()\n",
        "    tmean.at[d,r[6]] = int(f)\n",
        "    for i in range(5):\n",
        "      tmean.at[d,r[i]] = tloop[tloop.region.str.contains(r[i])==True].rejsetid.mean()\n",
        "    d += 1\n",
        "    b = add_years(b,a)\n",
        "\n",
        "#tmean.sort_values(by=[\"Traveltime\"], inplace=True, ascending=True)\n",
        "\n",
        "tmean.plot(kind=\"barh\")\n",
        "    \n",
        "# Ryd op\n",
        "del a , b , c , d , e , f , r , tmean"
      ],
      "execution_count": 204,
      "outputs": [
        {
          "output_type": "stream",
          "text": [
            "/usr/local/lib/python3.6/dist-packages/pandas/plotting/_core.py:223: FutureWarning: Passing integers to fillna is deprecated, will raise a TypeError in a future version.  To retain the old behavior, pass pd.Timedelta(seconds=n) instead.\n",
            "  data = data.fillna(fillna)\n"
          ],
          "name": "stderr"
        },
        {
          "output_type": "display_data",
          "data": {
            "image/png": "[encoded data removed]",
            "text/plain": [
              "<Figure size 432x288 with 1 Axes>"
            ]
          },
          "metadata": {
            "tags": []
          }
        }
      ]
    }
  ]
}