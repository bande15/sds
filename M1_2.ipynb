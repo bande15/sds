{
  "nbformat": 4,
  "nbformat_minor": 0,
  "metadata": {
    "colab": {
      "name": "M1.2.ipynb",
      "provenance": [],
      "collapsed_sections": []
    },
    "kernelspec": {
      "name": "python3",
      "display_name": "Python 3"
    }
  },
  "cells": [
    {
      "cell_type": "markdown",
      "metadata": {
        "id": "Z3tA9abHhwpm",
        "colab_type": "text"
      },
      "source": [
        "M1.2\n",
        "Bjarke Schrøder Andersen"
      ]
    },
    {
      "cell_type": "markdown",
      "metadata": {
        "id": "TMTfCdrDvvgo",
        "colab_type": "text"
      },
      "source": [
        "Pre-processing: Dataset bliver hentet. Pakker bliver indlæst. Advarsler om fremtidige ændringer i pakker bliver ikke veist fremadrettet."
      ]
    },
    {
      "cell_type": "code",
      "metadata": {
        "id": "0YTolgcfiHqd",
        "colab_type": "code",
        "outputId": "820e13c9-20d9-420a-82a1-d485d7e9167a",
        "colab": {
          "base_uri": "https://localhost:8080/",
          "height": 221
        }
      },
      "source": [
        "!wget -c https://github.com/SDS-AAU/M1-2019/raw/master/data/pokemon.csv\n",
        "import matplotlib.pyplot as plt\n",
        "import numpy as np\n",
        "import pandas as pd\n",
        "from pandas.api.types import is_numeric_dtype as isn\n",
        "from sklearn.cluster import KMeans as km\n",
        "from sklearn.decomposition import PCA \n",
        "from sklearn.linear_model import LogisticRegression as lr\n",
        "from sklearn.metrics import classification_report as cr\n",
        "from sklearn.metrics import confusion_matrix as cm\n",
        "from sklearn.metrics import mean_squared_error as mse\n",
        "from sklearn.model_selection import cross_val_score as cvs\n",
        "from sklearn.model_selection import GridSearchCV as gscv\n",
        "from sklearn.model_selection import train_test_split as tts\n",
        "from sklearn.neighbors import KNeighborsClassifier as knc\n",
        "from sklearn.pipeline import make_pipeline as mpipe\n",
        "from sklearn.pipeline import Pipeline as pipe\n",
        "from sklearn.preprocessing import StandardScaler as ss\n",
        "from sklearn.svm import SVC\n",
        "from sklearn.tree import DecisionTreeClassifier as dtc\n",
        "from warnings import simplefilter\n",
        "simplefilter(action='ignore', category=(FutureWarning,DeprecationWarning))"
      ],
      "execution_count": 55,
      "outputs": [
        {
          "output_type": "stream",
          "text": [
            "--2019-09-18 05:05:52--  https://github.com/SDS-AAU/M1-2019/raw/master/data/pokemon.csv\n",
            "Resolving github.com (github.com)... 140.82.118.4\n",
            "Connecting to github.com (github.com)|140.82.118.4|:443... connected.\n",
            "HTTP request sent, awaiting response... 302 Found\n",
            "Location: https://raw.githubusercontent.com/SDS-AAU/M1-2019/master/data/pokemon.csv [following]\n",
            "--2019-09-18 05:05:52--  https://raw.githubusercontent.com/SDS-AAU/M1-2019/master/data/pokemon.csv\n",
            "Resolving raw.githubusercontent.com (raw.githubusercontent.com)... 151.101.0.133, 151.101.64.133, 151.101.128.133, ...\n",
            "Connecting to raw.githubusercontent.com (raw.githubusercontent.com)|151.101.0.133|:443... connected.\n",
            "HTTP request sent, awaiting response... 416 Range Not Satisfiable\n",
            "\n",
            "    The file is already fully retrieved; nothing to do.\n",
            "\n"
          ],
          "name": "stdout"
        }
      ]
    },
    {
      "cell_type": "markdown",
      "metadata": {
        "colab_type": "text",
        "id": "-AkJnD6owVTO"
      },
      "source": [
        "Opgave 1 Unsupervised. Data læses."
      ]
    },
    {
      "cell_type": "code",
      "metadata": {
        "id": "iKPGB4eLc7QS",
        "colab_type": "code",
        "colab": {}
      },
      "source": [
        "df = pd.read_csv('pokemon.csv')"
      ],
      "execution_count": 0,
      "outputs": []
    },
    {
      "cell_type": "markdown",
      "metadata": {
        "id": "R9ZrS3XMaWDK",
        "colab_type": "text"
      },
      "source": [
        "Opgave 1.a. PCA laves på de numeriske data."
      ]
    },
    {
      "cell_type": "code",
      "metadata": {
        "id": "h4s2bjAkv1ay",
        "colab_type": "code",
        "outputId": "a30830ba-05a2-4b81-fa8b-7b1020287b67",
        "colab": {
          "base_uri": "https://localhost:8080/",
          "height": 34
        }
      },
      "source": [
        "pca = PCA(n_components=4)\n",
        "scale = ss()\n",
        "sample = df.select_dtypes(include=['float64', 'int64'])\n",
        "scale.fit(sample)\n",
        "samples = scale.transform(sample)\n",
        "pca.fit(samples)\n",
        "pca.explained_variance_ratio_.cumsum()"
      ],
      "execution_count": 57,
      "outputs": [
        {
          "output_type": "execute_result",
          "data": {
            "text/plain": [
              "array([0.34566246, 0.58803627, 0.72409096, 0.82128477])"
            ]
          },
          "metadata": {
            "tags": []
          },
          "execution_count": 57
        }
      ]
    },
    {
      "cell_type": "markdown",
      "metadata": {
        "id": "Dds1OT2noIbK",
        "colab_type": "text"
      },
      "source": [
        "Opgave 1.b"
      ]
    },
    {
      "cell_type": "code",
      "metadata": {
        "id": "OhrUvPmKoIm8",
        "colab_type": "code",
        "outputId": "7db17fd7-2096-4f27-c71a-ce28766d41f4",
        "colab": {
          "base_uri": "https://localhost:8080/",
          "height": 283
        }
      },
      "source": [
        "ks = range(1, 10)\n",
        "inertias = []\n",
        "kscale = ss()\n",
        "ksample = df.select_dtypes(include=['float64', 'int64'])\n",
        "kscale.fit(ksample)\n",
        "ksamples = kscale.transform(ksample)\n",
        "\n",
        "for i in ks:\n",
        "    model = km(n_clusters=i)\n",
        "    model.fit(ksamples)\n",
        "    inertias.append(model.inertia_)\n",
        "\n",
        "plt.plot(ks, inertias, '-o')\n",
        "plt.xlabel('number of clusters, i')\n",
        "plt.ylabel('inertia')\n",
        "plt.xticks(ks)\n",
        "plt.show()"
      ],
      "execution_count": 58,
      "outputs": [
        {
          "output_type": "display_data",
          "data": {
            "image/png": "[encoded data removed]",
            "text/plain": [
              "<Figure size 432x288 with 1 Axes>"
            ]
          },
          "metadata": {
            "tags": []
          }
        }
      ]
    },
    {
      "cell_type": "markdown",
      "metadata": {
        "id": "N5jIJ5f6tzPW",
        "colab_type": "text"
      },
      "source": [
        "På gaggrund af plottet vælges antallet af clustre til 4"
      ]
    },
    {
      "cell_type": "code",
      "metadata": {
        "id": "9XxSVxfntyIO",
        "colab_type": "code",
        "colab": {
          "base_uri": "https://localhost:8080/",
          "height": 34
        },
        "outputId": "7a7443d0-001e-4f83-abac-e0b74919c831"
      },
      "source": [
        "model = km(n_clusters=4)\n",
        "model.fit(ksamples)\n",
        "labels = model.predict(ksamples)\n",
        "print('')"
      ],
      "execution_count": 59,
      "outputs": [
        {
          "output_type": "stream",
          "text": [
            "\n"
          ],
          "name": "stdout"
        }
      ]
    },
    {
      "cell_type": "markdown",
      "metadata": {
        "id": "CplOXzplsQYA",
        "colab_type": "text"
      },
      "source": [
        "Opgave 1.c. Der laves PCA på data og der plottets med farve efter cluster"
      ]
    },
    {
      "cell_type": "code",
      "metadata": {
        "id": "uF6HbefBsR2K",
        "colab_type": "code",
        "outputId": "bb8c06cb-062a-41a7-c5fe-16e78ddc36e4",
        "colab": {
          "base_uri": "https://localhost:8080/",
          "height": 269
        }
      },
      "source": [
        "sample = pca.fit_transform(ksamples)\n",
        "xs = sample[:,0]\n",
        "ys = sample[:,1]\n",
        "plt.scatter(xs, ys, c=labels)\n",
        "plt.axis('equal')\n",
        "plt.show()"
      ],
      "execution_count": 60,
      "outputs": [
        {
          "output_type": "display_data",
          "data": {
            "image/png": "[encoded data removed]",
            "text/plain": [
              "<Figure size 432x288 with 1 Axes>"
            ]
          },
          "metadata": {
            "tags": []
          }
        }
      ]
    },
    {
      "cell_type": "markdown",
      "metadata": {
        "id": "anp1MWH45qm0",
        "colab_type": "text"
      },
      "source": [
        "Opgave 1.d. 'Labels' splejses med datasættet så de kan sammenlignes med clusters."
      ]
    },
    {
      "cell_type": "code",
      "metadata": {
        "id": "mSriO9Ef5spi",
        "colab_type": "code",
        "outputId": "0732098d-80af-4a99-c780-690922c61aa8",
        "colab": {
          "base_uri": "https://localhost:8080/",
          "height": 638
        }
      },
      "source": [
        "lab = pd.DataFrame(labels)\n",
        "lab.columns = ['Clusters']\n",
        "df1 = df.join(lab)\n",
        "pd.crosstab(df1.Type1,df1.Clusters)"
      ],
      "execution_count": 61,
      "outputs": [
        {
          "output_type": "execute_result",
          "data": {
            "text/html": [
              "<div>\n",
              "<style scoped>\n",
              "    .dataframe tbody tr th:only-of-type {\n",
              "        vertical-align: middle;\n",
              "    }\n",
              "\n",
              "    .dataframe tbody tr th {\n",
              "        vertical-align: top;\n",
              "    }\n",
              "\n",
              "    .dataframe thead th {\n",
              "        text-align: right;\n",
              "    }\n",
              "</style>\n",
              "<table border=\"1\" class=\"dataframe\">\n",
              "  <thead>\n",
              "    <tr style=\"text-align: right;\">\n",
              "      <th>Clusters</th>\n",
              "      <th>0</th>\n",
              "      <th>1</th>\n",
              "      <th>2</th>\n",
              "      <th>3</th>\n",
              "    </tr>\n",
              "    <tr>\n",
              "      <th>Type1</th>\n",
              "      <th></th>\n",
              "      <th></th>\n",
              "      <th></th>\n",
              "      <th></th>\n",
              "    </tr>\n",
              "  </thead>\n",
              "  <tbody>\n",
              "    <tr>\n",
              "      <th>Bug</th>\n",
              "      <td>11</td>\n",
              "      <td>24</td>\n",
              "      <td>20</td>\n",
              "      <td>14</td>\n",
              "    </tr>\n",
              "    <tr>\n",
              "      <th>Dark</th>\n",
              "      <td>12</td>\n",
              "      <td>4</td>\n",
              "      <td>8</td>\n",
              "      <td>7</td>\n",
              "    </tr>\n",
              "    <tr>\n",
              "      <th>Dragon</th>\n",
              "      <td>20</td>\n",
              "      <td>2</td>\n",
              "      <td>5</td>\n",
              "      <td>5</td>\n",
              "    </tr>\n",
              "    <tr>\n",
              "      <th>Electric</th>\n",
              "      <td>15</td>\n",
              "      <td>10</td>\n",
              "      <td>9</td>\n",
              "      <td>10</td>\n",
              "    </tr>\n",
              "    <tr>\n",
              "      <th>Fairy</th>\n",
              "      <td>6</td>\n",
              "      <td>4</td>\n",
              "      <td>4</td>\n",
              "      <td>3</td>\n",
              "    </tr>\n",
              "    <tr>\n",
              "      <th>Fighting</th>\n",
              "      <td>8</td>\n",
              "      <td>5</td>\n",
              "      <td>5</td>\n",
              "      <td>9</td>\n",
              "    </tr>\n",
              "    <tr>\n",
              "      <th>Fire</th>\n",
              "      <td>13</td>\n",
              "      <td>12</td>\n",
              "      <td>10</td>\n",
              "      <td>17</td>\n",
              "    </tr>\n",
              "    <tr>\n",
              "      <th>Flying</th>\n",
              "      <td>3</td>\n",
              "      <td>0</td>\n",
              "      <td>1</td>\n",
              "      <td>0</td>\n",
              "    </tr>\n",
              "    <tr>\n",
              "      <th>Ghost</th>\n",
              "      <td>14</td>\n",
              "      <td>4</td>\n",
              "      <td>9</td>\n",
              "      <td>5</td>\n",
              "    </tr>\n",
              "    <tr>\n",
              "      <th>Grass</th>\n",
              "      <td>21</td>\n",
              "      <td>18</td>\n",
              "      <td>15</td>\n",
              "      <td>16</td>\n",
              "    </tr>\n",
              "    <tr>\n",
              "      <th>Ground</th>\n",
              "      <td>11</td>\n",
              "      <td>9</td>\n",
              "      <td>5</td>\n",
              "      <td>7</td>\n",
              "    </tr>\n",
              "    <tr>\n",
              "      <th>Ice</th>\n",
              "      <td>8</td>\n",
              "      <td>5</td>\n",
              "      <td>4</td>\n",
              "      <td>7</td>\n",
              "    </tr>\n",
              "    <tr>\n",
              "      <th>Normal</th>\n",
              "      <td>21</td>\n",
              "      <td>28</td>\n",
              "      <td>21</td>\n",
              "      <td>28</td>\n",
              "    </tr>\n",
              "    <tr>\n",
              "      <th>Poison</th>\n",
              "      <td>5</td>\n",
              "      <td>9</td>\n",
              "      <td>5</td>\n",
              "      <td>9</td>\n",
              "    </tr>\n",
              "    <tr>\n",
              "      <th>Psychic</th>\n",
              "      <td>20</td>\n",
              "      <td>9</td>\n",
              "      <td>11</td>\n",
              "      <td>17</td>\n",
              "    </tr>\n",
              "    <tr>\n",
              "      <th>Rock</th>\n",
              "      <td>11</td>\n",
              "      <td>9</td>\n",
              "      <td>9</td>\n",
              "      <td>15</td>\n",
              "    </tr>\n",
              "    <tr>\n",
              "      <th>Steel</th>\n",
              "      <td>10</td>\n",
              "      <td>3</td>\n",
              "      <td>5</td>\n",
              "      <td>9</td>\n",
              "    </tr>\n",
              "    <tr>\n",
              "      <th>Water</th>\n",
              "      <td>22</td>\n",
              "      <td>29</td>\n",
              "      <td>17</td>\n",
              "      <td>44</td>\n",
              "    </tr>\n",
              "  </tbody>\n",
              "</table>\n",
              "</div>"
            ],
            "text/plain": [
              "Clusters   0   1   2   3\n",
              "Type1                   \n",
              "Bug       11  24  20  14\n",
              "Dark      12   4   8   7\n",
              "Dragon    20   2   5   5\n",
              "Electric  15  10   9  10\n",
              "Fairy      6   4   4   3\n",
              "Fighting   8   5   5   9\n",
              "Fire      13  12  10  17\n",
              "Flying     3   0   1   0\n",
              "Ghost     14   4   9   5\n",
              "Grass     21  18  15  16\n",
              "Ground    11   9   5   7\n",
              "Ice        8   5   4   7\n",
              "Normal    21  28  21  28\n",
              "Poison     5   9   5   9\n",
              "Psychic   20   9  11  17\n",
              "Rock      11   9   9  15\n",
              "Steel     10   3   5   9\n",
              "Water     22  29  17  44"
            ]
          },
          "metadata": {
            "tags": []
          },
          "execution_count": 61
        }
      ]
    },
    {
      "cell_type": "markdown",
      "metadata": {
        "id": "4YcLu0eX9bb7",
        "colab_type": "text"
      },
      "source": [
        "Nej, algoritmen adskiller ikke de forskellige typer af pokemons"
      ]
    },
    {
      "cell_type": "markdown",
      "metadata": {
        "id": "Ak6eMfUKh2_b",
        "colab_type": "text"
      },
      "source": [
        "Opgave 2. Supervised."
      ]
    },
    {
      "cell_type": "markdown",
      "metadata": {
        "id": "XocNcJP-iXl4",
        "colab_type": "text"
      },
      "source": [
        "Opgave 2.a\n",
        "Navnene er unikke og droppes. 'Type1' opdeles i dummy-variablerså data i datasættet er numerisk. Den første dummy droppes for at undgå at angive allerede implicit givet data. Der kan argumenteres for skalering, men forklaringsgraden falder hvis data skaleres.\n"
      ]
    },
    {
      "cell_type": "markdown",
      "metadata": {
        "colab_type": "text",
        "id": "B1f4QlDBQ8LF"
      },
      "source": [
        "Derefter skaleres datasættet til værdier fra 0 til 1"
      ]
    },
    {
      "cell_type": "code",
      "metadata": {
        "id": "_uUiBE0RiaJj",
        "colab_type": "code",
        "colab": {}
      },
      "source": [
        "df = pd.read_csv('pokemon.csv')\n",
        "df = df.drop('Name', 1)\n",
        "df = pd.get_dummies(df, drop_first=True)"
      ],
      "execution_count": 0,
      "outputs": []
    },
    {
      "cell_type": "markdown",
      "metadata": {
        "id": "3ZujgrOZl__W",
        "colab_type": "text"
      },
      "source": [
        "Opgave 2.b"
      ]
    },
    {
      "cell_type": "code",
      "metadata": {
        "id": "EJANjjlMkK4v",
        "colab_type": "code",
        "colab": {}
      },
      "source": [
        "train, test = tts(df, test_size=0.25)\n",
        "\n",
        "a = train['Legendary'].values\n",
        "b = train.drop('Legendary', axis=1).values\n",
        "c = test['Legendary'].values\n",
        "d = test.drop('Legendary', axis=1).values"
      ],
      "execution_count": 0,
      "outputs": []
    },
    {
      "cell_type": "markdown",
      "metadata": {
        "id": "EV_ePq5Ho_h9",
        "colab_type": "text"
      },
      "source": [
        "Opgave 2.c. In this case, n=25"
      ]
    },
    {
      "cell_type": "code",
      "metadata": {
        "id": "iJe7KwwBi-ci",
        "colab_type": "code",
        "colab": {
          "base_uri": "https://localhost:8080/",
          "height": 34
        },
        "outputId": "0bf3fe01-da69-4f5e-c1b4-ad5f091ffdc8"
      },
      "source": [
        "reg = lr()\n",
        "cvs2a = cvs(reg, b, a, cv=25)\n",
        "\n",
        "print(\"Average 25-Fold CV Score: {}\".format(np.mean(cvs2a)))"
      ],
      "execution_count": 64,
      "outputs": [
        {
          "output_type": "stream",
          "text": [
            "Average 25-Fold CV Score: 0.9368492753623188\n"
          ],
          "name": "stdout"
        }
      ]
    },
    {
      "cell_type": "markdown",
      "metadata": {
        "id": "JyYPogedqIAz",
        "colab_type": "text"
      },
      "source": [
        "Opgave 2.d Der laves en logistisk regression, et decision tree og en pipeline model.\n"
      ]
    },
    {
      "cell_type": "code",
      "metadata": {
        "id": "e1eLRj2XqIMP",
        "colab_type": "code",
        "colab": {
          "base_uri": "https://localhost:8080/",
          "height": 34
        },
        "outputId": "a80845d3-03cd-4545-ea1f-cca8a60a5be0"
      },
      "source": [
        "reg = lr()\n",
        "reg.fit(b,a)\n",
        "\n",
        "tree = dtc()\n",
        "tree.fit(b,a)\n",
        "\n",
        "param = {'SVM__C':[1, 10, 100],'SVM__gamma':[0.1, 0.01]}\n",
        "trin = [('SVM', SVC())]\n",
        "rør = pipe(trin)\n",
        "rørmodel = gscv(rør, param, cv=25)\n",
        "rørmodel.fit(b,a)\n",
        "print('')"
      ],
      "execution_count": 65,
      "outputs": [
        {
          "output_type": "stream",
          "text": [
            "\n"
          ],
          "name": "stdout"
        }
      ]
    },
    {
      "cell_type": "markdown",
      "metadata": {
        "id": "OScl46iEvkf5",
        "colab_type": "text"
      },
      "source": [
        "Opgave 2.e"
      ]
    },
    {
      "cell_type": "code",
      "metadata": {
        "id": "yjIW0Cfuvkrb",
        "colab_type": "code",
        "colab": {
          "base_uri": "https://localhost:8080/",
          "height": 51
        },
        "outputId": "5229cfcd-ddc8-4f15-e0b5-1e722d2e0fd1"
      },
      "source": [
        "reg_p = reg.predict(d)\n",
        "tree_p = tree.predict(d)\n",
        "rør_p = rørmodel.predict(d)\n",
        "\n",
        "cm(c,reg_p)\n",
        "cm(c,tree_p)\n",
        "cm(c,rør_p)"
      ],
      "execution_count": 66,
      "outputs": [
        {
          "output_type": "execute_result",
          "data": {
            "text/plain": [
              "array([[182,   0],\n",
              "       [ 17,   1]])"
            ]
          },
          "metadata": {
            "tags": []
          },
          "execution_count": 66
        }
      ]
    },
    {
      "cell_type": "markdown",
      "metadata": {
        "id": "a5Dc2V-6w6IR",
        "colab_type": "text"
      },
      "source": [
        "Opgave 2.f. Resultaterne ændrer sig hver gang koderne bliver kørt, men rørmodellen kommer som regel ud bedst. "
      ]
    },
    {
      "cell_type": "code",
      "metadata": {
        "id": "HePSTU5xw8zL",
        "colab_type": "code",
        "colab": {
          "base_uri": "https://localhost:8080/",
          "height": 221
        },
        "outputId": "a252b54d-13e8-4237-d431-dab75b192201"
      },
      "source": [
        "print('\\n','Logistic regression:','\\n','{}'.format(cm(c,reg_p)),'\\n','\\n','Decision tree:','\\n','{}'.format(cm(c,tree_p)),'\\n','\\n','SVM pipeline regression:','\\n','{}'.format(cm(c,rør_p)))"
      ],
      "execution_count": 67,
      "outputs": [
        {
          "output_type": "stream",
          "text": [
            "\n",
            " Logistic regression: \n",
            " [[182   0]\n",
            " [ 10   8]] \n",
            " \n",
            " Decision tree: \n",
            " [[177   5]\n",
            " [ 11   7]] \n",
            " \n",
            " SVM pipeline regression: \n",
            " [[182   0]\n",
            " [ 17   1]]\n"
          ],
          "name": "stdout"
        }
      ]
    },
    {
      "cell_type": "markdown",
      "metadata": {
        "id": "hy2eaWwgvSrm",
        "colab_type": "text"
      },
      "source": [
        "Konklusion: Rørmodellen med tunede parametre er bedst"
      ]
    }
  ]
}